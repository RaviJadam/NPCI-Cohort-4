{
  "nbformat": 4,
  "nbformat_minor": 0,
  "metadata": {
    "colab": {
      "provenance": [],
      "collapsed_sections": []
    },
    "kernelspec": {
      "name": "python3",
      "display_name": "Python 3"
    },
    "language_info": {
      "name": "python"
    }
  },
  "cells": [
    {
      "cell_type": "code",
      "execution_count": null,
      "metadata": {
        "id": "Nq5nmFe0_yUM"
      },
      "outputs": [],
      "source": [
        "class Puzzle:\n",
        "   def __init__(self, pattern):     #pattern refers to Puzzle Matrix\n",
        "     self.pattern = pattern       #for matrix pattern\n",
        "     self.row, self.col = self.find_cord()      #row and column value for cordinates\n",
        "   \n",
        "   \n",
        "   def find_cord(self):           # to find coordinates of blank block\n",
        "       row = -1                   #Starting the row coordinates from 0\n",
        "       for line in self.pattern:\n",
        "           row += 1               #we increase the row value by 1\n",
        "           col = -1               #initially assigning coloumn as -1\n",
        "           for ch in line:\n",
        "              col += 1\n",
        "              if ch == \" \":\n",
        "                    return (row, col)\n",
        "\n",
        "   def above(self):\n",
        "      if self.row == 0:             #check if it is topmost row\n",
        "        return False                #above movement not possible\n",
        "      self.pattern[self.row][self.col] = self.pattern[self.row - 1][self.col]   #assigning value before performing blank block movement\n",
        "      self.pattern[self.row - 1][self.col] = \" \"          #assigning new cordinate as blank\n",
        "      self.row -= 1                                 #assigning new row value\n",
        "      return True\n",
        "\n",
        "   def below(self):\n",
        "      if self.row == 4:             #check if it is last row\n",
        "        return False                #below movement not possible\n",
        "      self.pattern[self.row][self.col] = self.pattern[self.row + 1][self.col] #assigning value before performing blank block movement\n",
        "      self.pattern[self.row + 1][self.col] = \" \"        #assigning new cordinate as blank\n",
        "      self.row += 1\n",
        "      return True\n",
        "    \n",
        "   def left(self):\n",
        "      if self.col == 0:                #check if it is leftmost col\n",
        "        return False                   #left movement not possible\n",
        "      self.pattern[self.row][self.col] = self.pattern[self.row][self.col - 1]   #assigning value before performing blank block movement\n",
        "      self.pattern[self.row][self.col - 1] = \" \"          #assigning new cordinate as blank\n",
        "      self.col -= 1\n",
        "      return True\n",
        "    \n",
        "   def right(self):\n",
        "      if self.col == 4:                 #check if it is rightmost col\n",
        "        return False                    #right movement not possible\n",
        "      self.pattern[self.row][self.col] = self.pattern[self.row][self.col + 1]   #assigning value before performing blank block movement\n",
        "      self.pattern[self.row][self.col + 1] = \" \"      #assigning new cordinate as blank\n",
        "      self.col+= 1\n",
        "      return True\n",
        "\n",
        "   def get_puzzle(self):\n",
        "      output = \"\"        \n",
        "      for line in self.pattern:     #list of first 5 alphabets = 1 line\n",
        "        for ch in line:             # reading each character in the line\n",
        "          output += ch + \" \"        # printing each character and space after that\n",
        "        output += \"\\n\"              #when character ends in line it goes to next line.\n",
        "      return output"
      ]
    },
    {
      "cell_type": "code",
      "source": [
        "def get_data(filepath : str) -> list:   #to fetch data from list and store it into 3D list\n",
        "  data = []\n",
        "  one_puzzle_data = []\n",
        "\n",
        "  with open(filepath, 'r') as file_obj:     #to read the input text file line by line\n",
        "\n",
        "    for line in file_obj:\n",
        "      one_puzzle_data += [list(line.strip('\\n'))]     #remove \\n from starting and end of string\n",
        "      if '0' in line:                   #to check end of movement commands\n",
        "        data.append(one_puzzle_data)\n",
        "        one_puzzle_data = []\n",
        "             \n",
        "  return data      #return list of strings"
      ],
      "metadata": {
        "id": "MRwPEB68AJ-H"
      },
      "execution_count": null,
      "outputs": []
    },
    {
      "cell_type": "code",
      "source": [
        "def perform_operation(filepath : str) -> list:\n",
        "   data = get_data(filepath)          #storing list of list coming from get_data(), strings which are given for input\n",
        "   output = ''\n",
        "   puzzle_number = 0\n",
        "\n",
        "   for puzzle_data in data:\n",
        "     puzzle_number += 1\n",
        "     output += f\"Puzzle #{puzzle_number}:\\n\"  #to print puzzle number (#1, #2...)   '' + Puzzle # + 1 \n",
        "     line_of_puzzle = puzzle_data[0:5]        #store starting 5 line for puzzle from 3d list\n",
        "     line_of_operation = puzzle_data[5:]      #store next line after 5th line of operations (A,B,L,R,0)\n",
        "     puzzle = Puzzle(line_of_puzzle)          \n",
        "     flag = 0\n",
        "\n",
        "     for operations in line_of_operation:       #reading movements commands given in input\n",
        "\n",
        "       for operation in operations:     #reading each operation character from line of operation\n",
        "          if operation == 'A':\n",
        "              if not puzzle.above():    #if more \"above\" operation can not be performed \n",
        "                flag = 1                # then break the loop \n",
        "                break\n",
        "          elif operation == \"B\":\n",
        "              if not puzzle.below():\n",
        "                flag = 1\n",
        "                break\n",
        "          elif operation == \"R\":\n",
        "              if not puzzle.right():\n",
        "                flag = 1\n",
        "                break\n",
        "          elif operation == \"L\":\n",
        "              if not puzzle.left():\n",
        "                flag = 1\n",
        "                break\n",
        "          else :\n",
        "             output += puzzle.get_puzzle() + \"\\n\"  # print the puzzle when none of the operation matches from above loops\n",
        "             \n",
        "       if flag:\n",
        "        output += \"This puzzle has no final configuration\"   \n",
        "        break\n",
        "         \n",
        "   return output\n",
        "print(perform_operation(\"Input.txt\"))"
      ],
      "metadata": {
        "id": "YjXnwkVxBAy_",
        "colab": {
          "base_uri": "https://localhost:8080/"
        },
        "outputId": "b86a31ac-bb25-4890-87e2-78493c0aad2f"
      },
      "execution_count": null,
      "outputs": [
        {
          "output_type": "stream",
          "name": "stdout",
          "text": [
            "Puzzle #1:\n",
            "T R G S J \n",
            "X O K L I \n",
            "M D V B N \n",
            "W P   A E \n",
            "U Q H C F \n",
            "\n",
            "Puzzle #2:\n",
            "  A B C D \n",
            "F G H I E \n",
            "K L M N J \n",
            "P Q R S O \n",
            "T U V W X \n",
            "\n",
            "Puzzle #3:\n",
            "This puzzle has no final configuration\n"
          ]
        }
      ]
    }
  ]
}